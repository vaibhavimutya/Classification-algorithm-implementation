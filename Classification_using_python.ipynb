{
  "nbformat": 4,
  "nbformat_minor": 0,
  "metadata": {
    "colab": {
      "name": "Classification using python.ipynb",
      "provenance": [],
      "collapsed_sections": []
    },
    "kernelspec": {
      "name": "python3",
      "display_name": "Python 3"
    }
  },
  "cells": [
    {
      "cell_type": "markdown",
      "metadata": {
        "id": "0W3hsol7d1Hf",
        "colab_type": "text"
      },
      "source": [
        "# Classification Algorithms on Iris Dataset\n",
        "\n",
        "Here we implement classification algorithms on the iris dataset and compare their performance using Python and it's scientific computing modules. "
      ]
    },
    {
      "cell_type": "code",
      "metadata": {
        "id": "ShNLncOAeEbu",
        "colab_type": "code",
        "colab": {}
      },
      "source": [
        "#Import the required modules\n",
        "import pandas as pd\n",
        "import numpy as np\n",
        "import matplotlib.pyplot as plt\n",
        "import matplotlib\n",
        "from sklearn import datasets\n",
        "from sklearn.preprocessing import StandardScaler\n",
        "from sklearn.decomposition import PCA\n",
        "from sklearn.model_selection import train_test_split\n",
        "from sklearn.linear_model import LogisticRegression\n",
        "from sklearn.neighbors import KNeighborsClassifier\n",
        "from sklearn.ensemble import RandomForestClassifier\n",
        "from sklearn.naive_bayes import GaussianNB\n",
        "from sklearn.metrics import confusion_matrix\n",
        "from sklearn.metrics import classification_report\n",
        "from sklearn.metrics import precision_score\n",
        "\n",
        "#Set plot parameters using matplotlib\n",
        "matplotlib.rc('xtick', color = 'white')\n",
        "matplotlib.rc('ytick', color = 'white')\n",
        "matplotlib.rc('axes', edgecolor = 'white')\n",
        "matplotlib.rc('text', color = 'white')\n",
        "matplotlib.rc('axes', labelcolor = 'white')"
      ],
      "execution_count": 0,
      "outputs": []
    },
    {
      "cell_type": "markdown",
      "metadata": {
        "id": "6wOrMqjTfoyj",
        "colab_type": "text"
      },
      "source": [
        "# Step 1: Loading and understanding the data"
      ]
    },
    {
      "cell_type": "code",
      "metadata": {
        "id": "72v249NZdu2X",
        "colab_type": "code",
        "outputId": "a8ba6fb9-5a75-43f1-f656-27ee112c939f",
        "colab": {
          "base_uri": "https://localhost:8080/",
          "height": 153
        }
      },
      "source": [
        "#Load iris dataset from datasets class of sklearn\n",
        "iris = datasets.load_iris()\n",
        "\n",
        "#Print top 5 rows of the features\n",
        "print('Features:\\n', iris.data[0:5])\n",
        "#Print top 5 rows of the label \n",
        "print('Labels: \\n', iris.target[0:5])"
      ],
      "execution_count": 0,
      "outputs": [
        {
          "output_type": "stream",
          "text": [
            "Features:\n",
            " [[5.1 3.5 1.4 0.2]\n",
            " [4.9 3.  1.4 0.2]\n",
            " [4.7 3.2 1.3 0.2]\n",
            " [4.6 3.1 1.5 0.2]\n",
            " [5.  3.6 1.4 0.2]]\n",
            "Labels: \n",
            " [0 0 0 0 0]\n"
          ],
          "name": "stdout"
        }
      ]
    },
    {
      "cell_type": "code",
      "metadata": {
        "id": "Hr50nAFweYFy",
        "colab_type": "code",
        "outputId": "415093c9-8141-4918-df27-a95e22654e29",
        "colab": {
          "base_uri": "https://localhost:8080/",
          "height": 621
        }
      },
      "source": [
        "#Plot the count of classes in the label \n",
        "plt.figure(figsize=(10,10))\n",
        "plt.bar(x = ['0','1','2'], height = np.unique(iris.target, return_counts = True)[1])\n",
        "plt.title(\"Target's classes and counts\")\n",
        "plt.xlabel(\"Classes\")\n",
        "plt.ylabel(\"Counts\")\n",
        "plt.show()"
      ],
      "execution_count": 0,
      "outputs": [
        {
          "output_type": "display_data",
          "data": {
            "image/png": "[encoded data removed]",
            "text/plain": [
              "<Figure size 720x720 with 1 Axes>"
            ]
          },
          "metadata": {
            "tags": [],
            "needs_background": "dark"
          }
        }
      ]
    },
    {
      "cell_type": "code",
      "metadata": {
        "id": "-0FHIhDngrII",
        "colab_type": "code",
        "outputId": "50915a52-409b-4faa-fec0-454094394690",
        "colab": {
          "base_uri": "https://localhost:8080/",
          "height": 879
        }
      },
      "source": [
        "#Visualizing distribution of features\n",
        "fig, ax = plt.subplots(nrows = 2, ncols = 2, figsize=(15,15))\n",
        "ax[0][0].hist(iris.data[:,0])\n",
        "ax[0][0].set_title(\"Distribution of feature 1\")\n",
        "ax[0][1].hist(iris.data[:,1])\n",
        "ax[0][1].set_title(\"Distribution of feature 2\")\n",
        "ax[1][0].hist(iris.data[:,2])\n",
        "ax[1][0].set_title(\"Distribution of feature 3\")\n",
        "ax[1][1].hist(iris.data[:,3])\n",
        "ax[1][1].set_title(\"Distribution of feature 4\")\n",
        "fig.show()"
      ],
      "execution_count": 0,
      "outputs": [
        {
          "output_type": "display_data",
          "data": {
            "image/png": "[encoded data removed]",
            "text/plain": [
              "<Figure size 1080x1080 with 4 Axes>"
            ]
          },
          "metadata": {
            "tags": [],
            "needs_background": "dark"
          }
        }
      ]
    },
    {
      "cell_type": "markdown",
      "metadata": {
        "id": "yD_tOHVpnqlj",
        "colab_type": "text"
      },
      "source": [
        "- Features are along various sclaes so let's standardize the data"
      ]
    },
    {
      "cell_type": "code",
      "metadata": {
        "id": "EyPPuT-Yn278",
        "colab_type": "code",
        "colab": {}
      },
      "source": [
        "#Using StandardScaler from sklearn preprocessing\n",
        "iris_x = StandardScaler().fit_transform(iris.data)"
      ],
      "execution_count": 0,
      "outputs": []
    },
    {
      "cell_type": "markdown",
      "metadata": {
        "id": "dFEB4a7ooK5l",
        "colab_type": "text"
      },
      "source": [
        "- In order to better understand class seperation let's reduce the 4 dimensional data to 2 dimensions.\n",
        "- Using PCA to convert data from, $R^4 \\rightarrow R^2$ and plotting it with labels as legend. "
      ]
    },
    {
      "cell_type": "code",
      "metadata": {
        "id": "CPzOV2Vlk5e4",
        "colab_type": "code",
        "outputId": "cbfef0ca-e200-4d01-8fe7-4c8e443bc14a",
        "colab": {
          "base_uri": "https://localhost:8080/",
          "height": 621
        }
      },
      "source": [
        "#Projecting features to 2 dimensions to understand seperation of classes\n",
        "pca = PCA(n_components=2)\n",
        "pca.fit(iris.data)\n",
        "pca.n_components_\n",
        "\n",
        "#Join the reduced array with labels\n",
        "iris_reduced = np.vstack((iris_x_reduced[:,0], iris_x_reduced[:,1], iris.target)).T\n",
        "\n",
        "#Plot the dataset across it's 2 PC\n",
        "plt.figure(figsize=(10,10))\n",
        "plt.scatter(iris_reduced[:,0], iris_reduced[:,1], c = iris_reduced[:,2])\n",
        "plt.title(\"Iris dataset across it's Principal Components\")\n",
        "plt.xlabel(\"Principal Component - 1\")\n",
        "plt.ylabel(\"Principal Component - 2\")\n",
        "plt.show()"
      ],
      "execution_count": 0,
      "outputs": [
        {
          "output_type": "display_data",
          "data": {
            "image/png": "[encoded data removed]",
            "text/plain": [
              "<Figure size 720x720 with 1 Axes>"
            ]
          },
          "metadata": {
            "tags": [],
            "needs_background": "dark"
          }
        }
      ]
    },
    {
      "cell_type": "markdown",
      "metadata": {
        "id": "VGulT-kQrG13",
        "colab_type": "text"
      },
      "source": [
        "- As we can see above, there seems to be great seperation among the classes."
      ]
    },
    {
      "cell_type": "markdown",
      "metadata": {
        "id": "BivypPMjrLxt",
        "colab_type": "text"
      },
      "source": [
        "# Step 2: Classifying the iris dataset"
      ]
    },
    {
      "cell_type": "markdown",
      "metadata": {
        "id": "VC1LJwsd_Tlk",
        "colab_type": "text"
      },
      "source": [
        "- First, let's convert the data into train/test split. "
      ]
    },
    {
      "cell_type": "code",
      "metadata": {
        "id": "-e_m5IHyrT0A",
        "colab_type": "code",
        "colab": {}
      },
      "source": [
        "iris_x_train, iris_x_test, iris_y_train, iris_y_test = train_test_split(iris_x, \n",
        "                                                                        iris.target, \n",
        "                                                                        test_size=0.33, \n",
        "                                                                        random_state=7)"
      ],
      "execution_count": 0,
      "outputs": []
    },
    {
      "cell_type": "markdown",
      "metadata": {
        "id": "bOiajiGSrRHJ",
        "colab_type": "text"
      },
      "source": [
        "## Model Fitting and Prediction"
      ]
    },
    {
      "cell_type": "markdown",
      "metadata": {
        "id": "MW5zeSv__tb2",
        "colab_type": "text"
      },
      "source": [
        "- Let's create a simple function that takes in a model obeject fit's it to the training data and predict's on the test data. "
      ]
    },
    {
      "cell_type": "code",
      "metadata": {
        "id": "_e3vK9EX_so9",
        "colab_type": "code",
        "colab": {}
      },
      "source": [
        "def get_predicitons(model, train_x, train_y, test_x):\n",
        "  \"\"\"Fit model to data and return biniary and probabilistic prediction\n",
        "  \n",
        "  Args:\n",
        "  model: type of classification algorithm used\n",
        "  train_x: features of the training data\n",
        "  train_y: label of the training data\n",
        "  test_x: features of the test data\n",
        "  test_y: labels of the test data\n",
        "\n",
        "  Return:\n",
        "  pred = biniary prediction\n",
        "  pred_prob = probabilistic estimation of the prediction\n",
        "  \"\"\"\n",
        "  model.fit(train_x, train_y)\n",
        "  pred = model.predict(test_x)\n",
        "  pred_prob = model.predict_proba(test_x)\n",
        "  return (pred, pred_prob)\n"
      ],
      "execution_count": 0,
      "outputs": []
    },
    {
      "cell_type": "markdown",
      "metadata": {
        "id": "z2Uj36_D_d85",
        "colab_type": "text"
      },
      "source": [
        "### Using non-parametric models: \n",
        "- KNN Classifier\n",
        "- RandomForest"
      ]
    },
    {
      "cell_type": "code",
      "metadata": {
        "id": "snygQgKU9DMM",
        "colab_type": "code",
        "colab": {}
      },
      "source": [
        "#KNN classifier\n",
        "knn = KNeighborsClassifier(n_neighbors=3)\n",
        "knn_pred, knn_pred_prob = get_predicitons(knn, iris_x_train, iris_y_train, iris_x_test)\n",
        "#RandomForest\n",
        "rf = RandomForestClassifier(max_depth=2, random_state=4)\n",
        "rf_pred, rf_pred_prob = get_predicitons(dt, iris_x_train, iris_y_train, iris_x_test)"
      ],
      "execution_count": 0,
      "outputs": []
    },
    {
      "cell_type": "markdown",
      "metadata": {
        "id": "e3KemyDOCIL7",
        "colab_type": "text"
      },
      "source": [
        "### Using parametric model:\n",
        "- Gaussian Naive Bayes"
      ]
    },
    {
      "cell_type": "code",
      "metadata": {
        "id": "-F0Qx6VxCGEi",
        "colab_type": "code",
        "colab": {}
      },
      "source": [
        "#Gaussian naive bayes\n",
        "gnb = GaussianNB()\n",
        "gnb_pred, gnb_pred_prob = get_predicitons(gnb, iris_x_train, iris_y_train, iris_x_test)"
      ],
      "execution_count": 0,
      "outputs": []
    },
    {
      "cell_type": "markdown",
      "metadata": {
        "id": "jzhKEzbeEKK2",
        "colab_type": "text"
      },
      "source": [
        "# Step 3: Model Comparision"
      ]
    },
    {
      "cell_type": "markdown",
      "metadata": {
        "id": "2OLuyrKcEqzc",
        "colab_type": "text"
      },
      "source": [
        " - Let's look at confusion matrix of all predictions"
      ]
    },
    {
      "cell_type": "code",
      "metadata": {
        "id": "5bYbj31V9zUr",
        "colab_type": "code",
        "colab": {}
      },
      "source": [
        "def get_confusion_matrix(test_y, model_prediction):\n",
        "  \"\"\"Get confusion matrix\n",
        "  \n",
        "  Args:\n",
        "  test_y: Test values\n",
        "  model_predictions: biniary prediction values of the model\n",
        "  \n",
        "  Return:\n",
        "  prints confusion matrix as a pandas df\n",
        "  \"\"\"\n",
        "  cm = confusion_matrix(test_y, model_prediction)\n",
        "  cm_df = pd.DataFrame({'True 0' : cm[:,0], 'True 1': cm[:,1], 'True 2' : cm[:,2]})\n",
        "  print(cm_df, '\\n')\n",
        "  print(classification_report(test_y, model_prediction, digits=3))\n",
        "\n"
      ],
      "execution_count": 0,
      "outputs": []
    },
    {
      "cell_type": "code",
      "metadata": {
        "id": "G9-iAlGIF2z0",
        "colab_type": "code",
        "outputId": "377fea20-7df7-4568-d117-de8ddb38e13c",
        "colab": {
          "base_uri": "https://localhost:8080/",
          "height": 306
        }
      },
      "source": [
        "#Confusion matrix and performance report for KNN Classifier\n",
        "print(\"Model performance stats for KNN Classifier \\n\")\n",
        "get_confusion_matrix(iris_y_test, knn_pred)"
      ],
      "execution_count": 0,
      "outputs": [
        {
          "output_type": "stream",
          "text": [
            "Model performance stats for KNN Classifier \n",
            "\n",
            "   True 0  True 1  True 2\n",
            "0      13       1       0\n",
            "1       0      18       0\n",
            "2       0       3      15 \n",
            "\n",
            "              precision    recall  f1-score   support\n",
            "\n",
            "           0      1.000     0.929     0.963        14\n",
            "           1      0.818     1.000     0.900        18\n",
            "           2      1.000     0.833     0.909        18\n",
            "\n",
            "    accuracy                          0.920        50\n",
            "   macro avg      0.939     0.921     0.924        50\n",
            "weighted avg      0.935     0.920     0.921        50\n",
            "\n"
          ],
          "name": "stdout"
        }
      ]
    },
    {
      "cell_type": "code",
      "metadata": {
        "id": "p2xdnJUIF_NW",
        "colab_type": "code",
        "outputId": "70140e55-d357-445b-af06-b8decab36178",
        "colab": {
          "base_uri": "https://localhost:8080/",
          "height": 306
        }
      },
      "source": [
        "#Confusion matrix and performance report for RandomForest\n",
        "print(\"Model performance stats for RandomForest Classifier \\n\")\n",
        "get_confusion_matrix(iris_y_test, rf_pred)"
      ],
      "execution_count": 0,
      "outputs": [
        {
          "output_type": "stream",
          "text": [
            "Model performance stats for RandomForest Classifier \n",
            "\n",
            "   True 0  True 1  True 2\n",
            "0      14       0       0\n",
            "1       0      17       1\n",
            "2       0       4      14 \n",
            "\n",
            "              precision    recall  f1-score   support\n",
            "\n",
            "           0      1.000     1.000     1.000        14\n",
            "           1      0.810     0.944     0.872        18\n",
            "           2      0.933     0.778     0.848        18\n",
            "\n",
            "    accuracy                          0.900        50\n",
            "   macro avg      0.914     0.907     0.907        50\n",
            "weighted avg      0.907     0.900     0.899        50\n",
            "\n"
          ],
          "name": "stdout"
        }
      ]
    },
    {
      "cell_type": "code",
      "metadata": {
        "id": "Jm2pTsF2HkNa",
        "colab_type": "code",
        "outputId": "fcbc69a5-8b55-4852-fed6-bd9a51dff474",
        "colab": {
          "base_uri": "https://localhost:8080/",
          "height": 306
        }
      },
      "source": [
        "#Confusion matrix and performance report for Gaussian Naive bayes\n",
        "print(\"Model performance stats for Gaussian Naive bayes Classifier \\n\")\n",
        "get_confusion_matrix(iris_y_test, gnb_pred)"
      ],
      "execution_count": 0,
      "outputs": [
        {
          "output_type": "stream",
          "text": [
            "Model performance stats for Gaussian Naive bayes Classifier \n",
            "\n",
            "   True 0  True 1  True 2\n",
            "0      14       0       0\n",
            "1       0      15       3\n",
            "2       0       2      16 \n",
            "\n",
            "              precision    recall  f1-score   support\n",
            "\n",
            "           0      1.000     1.000     1.000        14\n",
            "           1      0.882     0.833     0.857        18\n",
            "           2      0.842     0.889     0.865        18\n",
            "\n",
            "    accuracy                          0.900        50\n",
            "   macro avg      0.908     0.907     0.907        50\n",
            "weighted avg      0.901     0.900     0.900        50\n",
            "\n"
          ],
          "name": "stdout"
        }
      ]
    },
    {
      "cell_type": "code",
      "metadata": {
        "id": "Ne88OJ7RUsGT",
        "colab_type": "code",
        "outputId": "6b418aef-7254-4af9-e445-f1e1ab246354",
        "colab": {
          "base_uri": "https://localhost:8080/",
          "height": 638
        }
      },
      "source": [
        "all_f1_x = ['KNN-C', 'RF', 'GNB']\n",
        "all_f1_score = [0.924, 0.907, 0.907]\n",
        "plt.figure(figsize=(10,10))\n",
        "plt.bar(all_f1_x, all_f1_score)\n",
        "plt.yticks(np.arange(0,1.1,0.1))\n",
        "plt.title(\"F1 scores of the 3 models\")\n",
        "plt.xlabel(\"Model\")\n",
        "plt.ylabel(\"F1 Score\")"
      ],
      "execution_count": 0,
      "outputs": [
        {
          "output_type": "execute_result",
          "data": {
            "text/plain": [
              "Text(0, 0.5, 'F1 Score')"
            ]
          },
          "metadata": {
            "tags": []
          },
          "execution_count": 213
        },
        {
          "output_type": "display_data",
          "data": {
            "image/png": "[encoded data removed]",
            "text/plain": [
              "<Figure size 720x720 with 1 Axes>"
            ]
          },
          "metadata": {
            "tags": [],
            "needs_background": "dark"
          }
        }
      ]
    },
    {
      "cell_type": "markdown",
      "metadata": {
        "id": "sO4hKuWnLPNo",
        "colab_type": "text"
      },
      "source": [
        "From the above model plot we can observe that KNN-C obtains a slighter better F1-Score of 0.924 as compared to 0.907 of RF and GNB. \n",
        "\n"
      ]
    }
  ]
}